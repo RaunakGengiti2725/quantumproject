{
 "cells": [
  {
   "cell_type": "markdown",
   "metadata": {},
   "source": [
    "# Quantum Geometry Demo\n",
    "This notebook demonstrates running a quench and training the GNN."
   ]
  },
  {
   "cell_type": "code",
   "metadata": {},
   "source": [
    "import numpy as np\n",
    "from quantumproject.quantum.simulations import Simulator, contiguous_intervals, von_neumann_entropy\n",
    "from quantumproject.training.pipeline import train_step\n",
    "from quantumproject.utils.tree import BulkTree\n",
    "import torch"
   ],
   "execution_count": null,
   "outputs": []
  },
  {
   "cell_type": "code",
   "metadata": {},
   "source": [
    "sim = Simulator(4)\n",
    "H = sim.build_hamiltonian('tfim')\n",
    "state = sim.time_evolved_state(H, 1.0)\n",
    "regions = contiguous_intervals(4)\n",
    "ent = torch.tensor([von_neumann_entropy(state, r) for r in regions])\n",
    "tree = BulkTree(4)\n",
    "weights = train_step(ent, tree, writer=None, steps=20)\n",
    "weights"
   ],
   "execution_count": null,
   "outputs": []
  }
 ],
 "metadata": {
  "kernelspec": {
   "display_name": "Python 3",
   "language": "python",
   "name": "python3"
  },
  "language_info": {
   "name": "python",
   "pygments_lexer": "ipython3"
  }
 },
 "nbformat": 4,
 "nbformat_minor": 5
}
